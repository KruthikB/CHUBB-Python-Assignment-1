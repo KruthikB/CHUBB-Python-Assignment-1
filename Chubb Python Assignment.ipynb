{
 "cells": [
  {
   "cell_type": "markdown",
   "id": "ba232d35",
   "metadata": {},
   "source": [
    "1.\tAnalyzing Student Performance\n",
    "A school administrator wants to analyze students' scores from a file that contains records of students and their exam results in the format name,score. Unfortunately, sometimes the file might be missing, corrupted, or contain invalid data. Write a program that reads the file, calculates the average score, and lists students who scored above average. Ensure proper handling of missing files and malformed data.\n"
   ]
  },
  {
   "cell_type": "code",
   "execution_count": 2,
   "id": "a6d2dc50",
   "metadata": {},
   "outputs": [
    {
     "name": "stdout",
     "output_type": "stream",
     "text": [
      "Average score: 79.73333333333333\n",
      "Students scoring above or equal to the average:\n",
      "Aradhya\n",
      "Arun\n",
      "abhimanyu\n",
      "Kathik\n",
      "Abheyy\n",
      "Rajesh\n",
      "Ruksana\n",
      "Akshara\n"
     ]
    }
   ],
   "source": [
    "import pandas as pd\n",
    "import math\n",
    "students = []\n",
    "\n",
    "try:\n",
    "    with open(\"Question_1.txt\", \"r\") as f:\n",
    "        for i in f:\n",
    "            try:\n",
    "                name, score = i.strip().split(\",\")\n",
    "                students.append((name, float(score)))\n",
    "            except ValueError:\n",
    "                print(f\"Skipping malformed line: {i.strip()}\")\n",
    "except FileNotFoundError:\n",
    "    print(\"The file is not found at the location.\")\n",
    "    students = [] \n",
    "\n",
    "def calcAvg(students):\n",
    "    if students:\n",
    "        valid_scores = [score for name, score in students if not math.isnan(score)]\n",
    "        total_scores = sum(valid_scores)\n",
    "        return total_scores / len(valid_scores) if valid_scores else 0\n",
    "    else:\n",
    "        return 0\n",
    "\n",
    "\n",
    "def listStudents(average, students):\n",
    "    return [names for names, scores in students if scores >= average]\n",
    "\n",
    "if students:\n",
    "    average = calcAvg(students)\n",
    "    studentsAboveAvg = listStudents(average, students)\n",
    "    print(f\"Average score: {average}\")\n",
    "    print(f\"Students scoring above or equal to the average:\")\n",
    "    for i in studentsAboveAvg:\n",
    "        print(i)\n",
    "else:\n",
    "    print(\"No valid student data found.\")\n"
   ]
  },
  {
   "cell_type": "markdown",
   "id": "420b3f16",
   "metadata": {},
   "source": [
    "2.\t Product Availability in a Store\n",
    "You work for an online store, and you need to help the operations team clean up their product list. They have a list of product IDs that contains duplicates due to system errors. Write a function that takes this list, removes duplicates, sorts the product IDs, and returns the cleaned list. Make sure your function can handle an empty product list input.\n"
   ]
  },
  {
   "cell_type": "code",
   "execution_count": 3,
   "id": "23e3efd8",
   "metadata": {},
   "outputs": [
    {
     "name": "stdout",
     "output_type": "stream",
     "text": [
      "['P12345', 'P13579', 'P24680', 'P54321', 'P67890']\n"
     ]
    }
   ],
   "source": [
    "def productProcessor(productID):\n",
    "    if productID:\n",
    "        productID = list(set(productID))\n",
    "        productID.sort()\n",
    "        return productID\n",
    "    else:\n",
    "        return []\n",
    "\n",
    "productID = ['P12345', 'P67890', 'P12345', 'P24680', 'P13579', 'P24680', 'P13579', 'P67890', 'P54321', 'P12345']\n",
    "cleaned_list = productProcessor(productID)\n",
    "print(cleaned_list)\n"
   ]
  },
  {
   "cell_type": "markdown",
   "id": "24b2ec9c",
   "metadata": {},
   "source": [
    "3.\tOrganizing Sales Data\n",
    "A small business owner has sales data in the form of tuples, each containing the customer’s name and the amount they spent (e.g., ('Alice', 200)). Write a program that stores this data in a dictionary, where the customer’s name is the key and the amount spent is the value. If a customer appears more than once, update their total spending. Print the customer data sorted by their names.\n"
   ]
  },
  {
   "cell_type": "code",
   "execution_count": 4,
   "id": "df4c3768",
   "metadata": {},
   "outputs": [
    {
     "name": "stdout",
     "output_type": "stream",
     "text": [
      "{'Alice': 500, 'Bob': 300, 'Charlie': 150, 'Diana': 250, 'Eve': 400, 'Frank': 100, 'Grace': 350, 'Hank': 450, 'Ivy': 300, 'Jack': 200}\n"
     ]
    }
   ],
   "source": [
    "customers = (('Alice',200),('Bob',300),('Charlie', 150),('Diana', 250),\n",
    "             ('Eve', 400),('Frank', 100),('Grace', 350),('Hank', 450),('Ivy', 300),('Jack', 200),('Alice',300))\n",
    "\n",
    "customers_dictionary={}\n",
    "\n",
    "for d in customers:\n",
    "    if(d[0] in customers_dictionary):\n",
    "        customers_dictionary[d[0]]+=d[1]\n",
    "    else:\n",
    "        customers_dictionary[d[0]]=d[1]\n",
    "\n",
    "sorted_customers = {key: customers_dictionary[key] for key in sorted(customers_dictionary)}\n",
    "print(sorted_customers)\n"
   ]
  },
  {
   "cell_type": "markdown",
   "id": "547abf03",
   "metadata": {},
   "source": [
    "4.\tSaving User Preferences\n",
    "A mobile app allows users to customize settings like theme (dark/light mode), language, and notification preferences. Write a program that saves a user's preferences using the pickle module and retrieves them when needed. Handle cases where the preferences file is missing or corrupted.\n"
   ]
  },
  {
   "cell_type": "code",
   "execution_count": 8,
   "id": "8aa08def",
   "metadata": {},
   "outputs": [
    {
     "name": "stdout",
     "output_type": "stream",
     "text": [
      "Preferences loaded successfully.\n",
      "Current Preferences: {'theme': 'dark', 'language': 'Spanish', 'notifications': False}\n",
      "Preferences saved successfully.\n"
     ]
    }
   ],
   "source": [
    "import pickle\n",
    "import os\n",
    "\n",
    "def save_preferences(preferences, filename='user_preferences.pkl'):\n",
    "    try:\n",
    "        with open(filename, 'wb') as f:\n",
    "            pickle.dump(preferences, f)\n",
    "        print(\"Preferences saved successfully.\")\n",
    "    except Exception as e:\n",
    "        print(f\"Error saving preferences: {e}\")\n",
    "\n",
    "def load_preferences(filename='user_preferences.pkl'):\n",
    "    if os.path.exists(filename):\n",
    "        try:\n",
    "            with open(filename, 'rb') as f:\n",
    "                preferences = pickle.load(f)\n",
    "                print(\"Preferences loaded successfully.\")\n",
    "                return preferences\n",
    "        except (pickle.UnpicklingError, EOFError, FileNotFoundError) as e:\n",
    "            print(f\"Error loading preferences: {e}. The file might be corrupted.\")\n",
    "            return None\n",
    "    else:\n",
    "        print(\"Preferences file not found. Using default preferences.\")\n",
    "        return None\n",
    "\n",
    "\n",
    "default_preferences = {\n",
    "    'theme': 'light', \n",
    "    'language': 'English',\n",
    "    'notifications': True\n",
    "}\n",
    "\n",
    "preferences = load_preferences() or default_preferences\n",
    "print(f\"Current Preferences: {preferences}\")\n",
    "\n",
    "preferences['theme'] = 'dark'\n",
    "preferences['language'] = 'Spanish'\n",
    "preferences['notifications'] = False\n",
    "\n",
    "save_preferences(preferences)\n",
    "\n"
   ]
  },
  {
   "cell_type": "markdown",
   "id": "eb0fd263",
   "metadata": {},
   "source": [
    "5.\tAnalyzing Employee Salaries\n",
    "A company’s HR department maintains employee records in a CSV file, which includes details like employee name, department, and salary. You’ve been tasked with analyzing this data to calculate the total and average salary per department. Write a program that reads the CSV using pandas, computes the required data, and saves the results to a new CSV. Handle situations where the file is missing or contains invalid data.\n"
   ]
  },
  {
   "cell_type": "code",
   "execution_count": 11,
   "id": "c04382c2",
   "metadata": {},
   "outputs": [
    {
     "name": "stdout",
     "output_type": "stream",
     "text": [
      "File created\n"
     ]
    }
   ],
   "source": [
    "import pandas as pd\n",
    "\n",
    "def process_employee_data(input_file, output_file):\n",
    "    try:\n",
    "        df = pd.read_csv(input_file)\n",
    "    except FileNotFoundError:\n",
    "        print(\"File is not found!\")\n",
    "        return\n",
    "    except pd.errors.EmptyDataError:\n",
    "        print(\"The file is empty!\")\n",
    "        return\n",
    "    except pd.errors.ParserError:\n",
    "        print(\"The file contains invalid data!\")\n",
    "        return\n",
    "\n",
    "    df['salary'] = pd.to_numeric(df['salary'], errors='coerce')\n",
    "    df.dropna(subset=['salary', 'department'], inplace=True)\n",
    "    salary_summary = df.groupby('department').agg(total_salary=('salary', 'sum'),average_salary=('salary', 'mean'))\n",
    "    salary_summary.to_csv(output_file)\n",
    "    print(\"File created\")\n",
    "\n",
    "input_file = \"Question_4.csv\"\n",
    "output_file = \"Output_4.csv\"\n",
    "process_employee_data(input_file, output_file)\n"
   ]
  },
  {
   "cell_type": "markdown",
   "id": "7c8cc1e4",
   "metadata": {},
   "source": [
    "6.\t Validating User Signups\n",
    "Your company’s website allows users to sign up with their email addresses. Write a Python program that checks if the provided email addresses are valid using regular expressions. Make sure the emails follow the proper format (e.g., username@domain.com). Your program should filter out invalid emails from a given list of signups.\n"
   ]
  },
  {
   "cell_type": "code",
   "execution_count": 17,
   "id": "799ac048",
   "metadata": {},
   "outputs": [
    {
     "name": "stdout",
     "output_type": "stream",
     "text": [
      "['john.doe@example.com', 'jane_smith123@company.org', 'user@domain..com', 'first.last@subdomain.example.co.uk', 'user+label@domain.com', 'hello123@example.net', 'user@domain.io', 'x@example.com', '.user@domain.com', 'user@domain..com', 'user.name+tag+sorting@example.com']\n"
     ]
    }
   ],
   "source": [
    "import re\n",
    "\n",
    "emails = [\"john.doe@example.com\", \"plainaddress\", \"jane_smith123@company.org\", \"user@domain..com\", \n",
    "          \"first.last@subdomain.example.co.uk\", \"@no-local-part.com\", \"user@.com\", \"user+label@domain.com\", \n",
    "          \"hello123@example.net\", \"email@123.123.123.123\", \"user@domain_com\", \"user@domain,com\", \"user@domain.io\", \n",
    "          \"x@example.com\", \".user@domain.com\", \"user@domain\", \"user@domain..com\", \"user.name+tag+sorting@example.com\"]\n",
    "\n",
    "pattern = r'^[a-zA-Z0-9._%+-]+@[a-zA-Z0-9.-]+\\.[a-zA-Z]{2,}$'\n",
    "\n",
    "valid_emails=[]\n",
    "\n",
    "for email in emails:\n",
    "    if(re.match(pattern,email)):\n",
    "        valid_emails.append(email)\n",
    "print(valid_emails)"
   ]
  },
  {
   "cell_type": "markdown",
   "id": "777973ed",
   "metadata": {},
   "source": [
    "7.\t Currency Conversion Calculator\n",
    "You’re building a currency conversion tool for a travel website. The tool should take two user inputs: the amount to convert and the conversion rate. Implement a program that handles cases where the user enters invalid data, such as non-numeric input or a conversion rate of zero, and provides appropriate error messages.\n"
   ]
  },
  {
   "cell_type": "code",
   "execution_count": 19,
   "id": "81515380",
   "metadata": {},
   "outputs": [
    {
     "name": "stdout",
     "output_type": "stream",
     "text": [
      "Enter the amount to convert: abd\n",
      "Invalid input: could not convert string to float: 'abd'. Please enter valid numeric values.\n",
      "Enter the amount to convert: 3r\n",
      "Invalid input: could not convert string to float: '3r'. Please enter valid numeric values.\n",
      "Enter the amount to convert: 23\n",
      "Enter the conversion rate: 3\n",
      "The converted amount is: 69.00\n"
     ]
    }
   ],
   "source": [
    "def currency_converter():\n",
    "    while True:\n",
    "        try:\n",
    "            amount = input(\"Enter the amount to convert: \")\n",
    "            amount = float(amount) \n",
    "\n",
    "            conversion_rate = input(\"Enter the conversion rate: \")\n",
    "            conversion_rate = float(conversion_rate)\n",
    "\n",
    "            if conversion_rate == 0:\n",
    "                raise ValueError(\"The conversion rate cannot be zero.\")\n",
    "\n",
    "            converted_amount = amount * conversion_rate\n",
    "            print(f\"The converted amount is: {converted_amount:.2f}\")\n",
    "\n",
    "            break\n",
    "\n",
    "        except ValueError as e:\n",
    "            print(f\"Invalid input: {e}. Please enter valid numeric values.\")\n",
    "\n",
    "currency_converter()\n"
   ]
  },
  {
   "cell_type": "markdown",
   "id": "e1da67f1",
   "metadata": {},
   "source": [
    "8.\t Movie Ratings Aggregation\n",
    "\n",
    "A movie streaming service collects user ratings for movies. Each movie can be rated on a scale of 1 to 10. Write a program that takes a list of movie ratings and uses list comprehension to filter out ratings below 5 (bad ratings) and return a new list of good ratings squared. Handle cases where no ratings are provided.\n"
   ]
  },
  {
   "cell_type": "code",
   "execution_count": 20,
   "id": "f46de175",
   "metadata": {},
   "outputs": [
    {
     "name": "stdout",
     "output_type": "stream",
     "text": [
      "[49, 81, 36, 100, 25]\n"
     ]
    }
   ],
   "source": [
    "def filter_and_square_ratings(ratings):\n",
    "    if not ratings:\n",
    "        return \"No ratings provided.\"\n",
    "    \n",
    "    good_ratings = filter(lambda rating: rating >= 5, ratings)\n",
    "    good_ratings_squared = [rating ** 2 for rating in good_ratings]\n",
    "    \n",
    "    return good_ratings_squared\n",
    "\n",
    "ratings_input = [7, 2, 9, 4, 6, 3, 10, 5, 1]\n",
    "result = filter_and_square_ratings(ratings_input)\n",
    "\n",
    "print(result)\n"
   ]
  },
  {
   "cell_type": "markdown",
   "id": "0c61b213",
   "metadata": {},
   "source": [
    "9.\t Extracting Contact Information\n",
    "\n",
    "A company stores client data in text files, and some of the records contain phone numbers in inconsistent formats, such as (123) 456-7890 or 123-456-7890. Write a program that reads a text file, uses regular expressions to extract all phone numbers in either format, and prints the list of valid phone numbers.\n"
   ]
  },
  {
   "cell_type": "code",
   "execution_count": 24,
   "id": "92c52bb4",
   "metadata": {},
   "outputs": [
    {
     "name": "stdout",
     "output_type": "stream",
     "text": [
      "['9876543210', '987-654-321', '987(654)321']\n"
     ]
    }
   ],
   "source": [
    "import re\n",
    "\n",
    "with open(\"Question_9.txt\",\"r\") as f:\n",
    "    s= f.read()\n",
    "pattern = r'[1-9][0-9()-]+'\n",
    "mobile_numbers = re.findall(pattern,s)\n",
    "print(mobile_numbers)"
   ]
  },
  {
   "cell_type": "markdown",
   "id": "9462cee7",
   "metadata": {},
   "source": [
    "10.\t Removing Duplicate User Data\n",
    "\n",
    "A loyalty program has a list of customer records, each stored as a tuple with the customer’s name and email address (e.g., ('John Doe', 'john@example.com')). Due to an import error, some customers are listed multiple times. Write a Python program that removes duplicate entries using a set and prints the unique list of customers.\n"
   ]
  },
  {
   "cell_type": "code",
   "execution_count": 25,
   "id": "82ef4505",
   "metadata": {},
   "outputs": [
    {
     "data": {
      "text/plain": [
       "[('Alice', 'alice@gmail.com'),\n",
       " ('Charlie', 'charliechaplin@yahoo.com'),\n",
       " ('Ivy', 'ivy@ivf.in'),\n",
       " ('Bob', 'bob123@example.com'),\n",
       " ('Diana', 'diana@example.com'),\n",
       " ('John Doe', 'john@example.com')]"
      ]
     },
     "execution_count": 25,
     "metadata": {},
     "output_type": "execute_result"
    }
   ],
   "source": [
    "customers=[('John Doe','john@example.com'),('Alice','alice@gmail.com'),('Bob','bob123@example.com'),('Charlie', 'charliechaplin@yahoo.com'),('Diana', 'diana@example.com'),\n",
    "        ('Bob','bob123@example.com'),('Alice','alice@gmail.com'),('Ivy', 'ivy@ivf.in'),('Diana', 'diana@example.com'),('Alice','alice@gmail.com')]\n",
    "\n",
    "new_customers = list(set(customers))\n",
    "print(new_customers)"
   ]
  },
  {
   "cell_type": "markdown",
   "id": "72fa5f71",
   "metadata": {},
   "source": [
    "11.\t Product Inventory Analysis\n",
    "\n",
    "Your company manages product inventory through a CSV file that contains product ID, name, and quantity available. Write a program using pandas to filter products with low stock (less than 10 units). Handle potential issues like a missing or malformed CSV file, or missing columns in the data.\n"
   ]
  },
  {
   "cell_type": "code",
   "execution_count": 5,
   "id": "aceb1ad9",
   "metadata": {},
   "outputs": [
    {
     "name": "stdout",
     "output_type": "stream",
     "text": [
      "   productID        name  quantity\n",
      "1       P002   Product_2         8\n",
      "4       P005   Product_5         9\n",
      "10      P011  Product_11         7\n",
      "13      P014  Product_14         2\n",
      "15      P016  Product_16         3\n",
      "16      P017  Product_17         1\n",
      "17      P018  Product_18         6\n",
      "18      P019  Product_19         2\n",
      "21      P022  Product_22         2\n",
      "23      P024  Product_24         8\n"
     ]
    }
   ],
   "source": [
    "import pandas as pd\n",
    "\n",
    "def productsInventory(input_file):\n",
    "    try:\n",
    "        df = pd.read_csv(input_file)\n",
    "    except FileNotFoundError:\n",
    "        print(\"File is not found!\")\n",
    "        return\n",
    "    except pd.errors.EmptyDataError:\n",
    "        print(\"The file is empty!\")\n",
    "        return\n",
    "    except pd.errors.ParserError:\n",
    "        print(\"The file contains invalid data!\")\n",
    "        return\n",
    "    \n",
    "    df['quantity']  = pd.to_numeric(df['quantity'],errors = 'coerce')\n",
    "    df.dropna(subset=['quantity'], inplace=True)\n",
    "    \n",
    "    filtered_df = df[df['quantity']<10]\n",
    "    \n",
    "    print(filtered_df)\n",
    "\n",
    "input_file  = 'Question_11.csv'\n",
    "\n",
    "productsInventory(input_file)\n",
    "    "
   ]
  },
  {
   "cell_type": "markdown",
   "id": "4b4161bd",
   "metadata": {},
   "source": [
    "12.\tStatistical Analysis for a Sports Team\n",
    "\n",
    "A sports analyst wants to analyze the performance statistics of players on a team. Each player’s performance over the season is recorded as an array of scores. Write a program that generates a large array of player scores using numpy, and calculates the mean, median, variance, and standard deviation of the players’ performance.\n"
   ]
  },
  {
   "cell_type": "code",
   "execution_count": 1,
   "id": "5f9a8fa7",
   "metadata": {},
   "outputs": [
    {
     "name": "stdout",
     "output_type": "stream",
     "text": [
      "Enter the number of players: 10\n",
      "Players scores generated: [88 78 64 92 57 70 88 68 72 60]\n",
      "Players statistics:\n",
      "Mean Score: 73.70\n",
      "Median Score: 71.00\n",
      "Variance: 137.21\n",
      "Standard Deviation: 11.71\n",
      "\n"
     ]
    }
   ],
   "source": [
    "import numpy as np\n",
    "\n",
    "numbers_of_players = int(input(\"Enter the number of players: \"))\n",
    "\n",
    "\n",
    "np.random.seed(42)\n",
    "player_scores = np.random.randint(50, 101, size=(numbers_of_players))\n",
    "\n",
    "print(f'Players scores generated: {player_scores}')\n",
    "mean_scores = np.mean(player_scores)        \n",
    "median_scores = np.median(player_scores)    \n",
    "variance_scores = np.var(player_scores)\n",
    "std_dev_scores = np.std(player_scores)\n",
    "\n",
    "print(f\"Players statistics:\")\n",
    "print(f\"Mean Score: {mean_scores:.2f}\")\n",
    "print(f\"Median Score: {median_scores:.2f}\")\n",
    "print(f\"Variance: {variance_scores:.2f}\")\n",
    "print(f\"Standard Deviation: {std_dev_scores:.2f}\\n\")\n"
   ]
  },
  {
   "cell_type": "markdown",
   "id": "a8676839",
   "metadata": {},
   "source": [
    "13.\t Managing Task Lists\n",
    "\n",
    "A task management system allows users to create and store to-do lists. Write a Python program that stores a user's list of tasks using pickle, allowing them to save and retrieve their tasks later. Ensure proper exception handling if the data file becomes corrupted or is missing.\n"
   ]
  },
  {
   "cell_type": "code",
   "execution_count": 16,
   "id": "e17cc8bf",
   "metadata": {},
   "outputs": [
    {
     "name": "stdout",
     "output_type": "stream",
     "text": [
      "\n",
      "Task Manager\n",
      "1. View tasks\n",
      "2. Add a task\n",
      "3. Save and exit\n",
      "Enter your choice (1/2/3): 1\n",
      "\n",
      "No tasks to display.\n",
      "\n",
      "Task Manager\n",
      "1. View tasks\n",
      "2. Add a task\n",
      "3. Save and exit\n",
      "Enter your choice (1/2/3): 3\n",
      "Tasks saved successfully.\n"
     ]
    }
   ],
   "source": [
    "import pickle\n",
    "import os\n",
    "\n",
    "TASKS_FILE = 'tasks.pkl'\n",
    "\n",
    "def save_tasks(tasks):\n",
    "    try:\n",
    "        with open(TASKS_FILE, 'wb') as file:\n",
    "            pickle.dump(tasks, file)\n",
    "        print(\"Tasks saved successfully.\")\n",
    "    except Exception as e:\n",
    "        print(f\"Error saving tasks: {e}\")\n",
    "\n",
    "def load_tasks():\n",
    "    if not os.path.exists(TASKS_FILE):\n",
    "        return []\n",
    "    \n",
    "    try:\n",
    "        with open(TASKS_FILE, 'rb') as file:\n",
    "            tasks = pickle.load(file)\n",
    "        return tasks\n",
    "    except (EOFError, pickle.UnpicklingError):\n",
    "        print(\"Error: The tasks file is corrupted or empty.\")\n",
    "        return []\n",
    "    except FileNotFoundError:\n",
    "        print(\"Tasks file not found.\")\n",
    "        return []\n",
    "    except Exception as e:\n",
    "        print(f\"An unexpected error occurred while loading tasks: {e}\")\n",
    "        return []\n",
    "\n",
    "def display_tasks(tasks):\n",
    "    if not tasks:\n",
    "        print(\"\\nNo tasks to display.\")\n",
    "    else:\n",
    "        print(\"\\nYour tasks:\")\n",
    "        for idx, task in enumerate(tasks, 1):\n",
    "            print(f\"{idx}. {task}\")\n",
    "\n",
    "\n",
    "tasks = load_tasks()\n",
    "\n",
    "while True:\n",
    "    print(\"\\nTask Manager\")\n",
    "    print(\"1. View tasks\")\n",
    "    print(\"2. Add a task\")\n",
    "    print(\"3. Save and exit\")\n",
    "\n",
    "    choice = input(\"Enter your choice (1/2/3): \")\n",
    "\n",
    "    if choice == '1':\n",
    "        display_tasks(tasks)\n",
    "    elif choice == '2':\n",
    "        task = input(\"Enter a new task: \")\n",
    "        tasks.append(task)\n",
    "    elif choice == '3':\n",
    "        save_tasks(tasks)\n",
    "        break\n",
    "    else:\n",
    "        print(\"Invalid choice. Please enter 1, 2, or 3.\")\n"
   ]
  },
  {
   "cell_type": "markdown",
   "id": "d2e82a6d",
   "metadata": {},
   "source": [
    "14.\t Social Media Post Analysis\n",
    "\n",
    "A social media platform needs to analyze hashtags used in posts. Write a Python program that extracts all unique hashtags from a given post using regular expressions. Ensure that the hashtags only contain letters and numbers (e.g., #Python3) and print them in a sorted list.\n"
   ]
  },
  {
   "cell_type": "code",
   "execution_count": 17,
   "id": "bf58af2c",
   "metadata": {},
   "outputs": [
    {
     "name": "stdout",
     "output_type": "stream",
     "text": [
      "Unique Hashtags: ['#AI', '#Growth', '#Innovation', '#Inspiration', '#Learning', '#Motivation', '#Productivity', '#Python3', '#Success', '#TeamWork', '#Technology']\n"
     ]
    }
   ],
   "source": [
    "import re\n",
    "\n",
    "def extract_hashtags(post):\n",
    "    hashtags = re.findall(r\"#\\w+\", post)\n",
    "    \n",
    "    unique_hashtags = sorted(set(hashtags))\n",
    "    \n",
    "    return unique_hashtags\n",
    "\n",
    "post = \"\"\"\n",
    "Staying motivated and pushing through challenges is the key to success. Every day is a new opportunity to grow and improve. Let's keep innovating and learning together! #Motivation #Success #Innovation #Productivity #AI #Technology #Learning #TeamWork #Growth #Inspiration #Success #Python3 #AI\n",
    "\"\"\"\n",
    "\n",
    "unique_hashtags = extract_hashtags(post)\n",
    "print(\"Unique Hashtags:\", unique_hashtags)\n"
   ]
  },
  {
   "cell_type": "code",
   "execution_count": null,
   "id": "29876cad",
   "metadata": {},
   "outputs": [],
   "source": []
  }
 ],
 "metadata": {
  "kernelspec": {
   "display_name": "Python 3 (ipykernel)",
   "language": "python",
   "name": "python3"
  },
  "language_info": {
   "codemirror_mode": {
    "name": "ipython",
    "version": 3
   },
   "file_extension": ".py",
   "mimetype": "text/x-python",
   "name": "python",
   "nbconvert_exporter": "python",
   "pygments_lexer": "ipython3",
   "version": "3.9.13"
  }
 },
 "nbformat": 4,
 "nbformat_minor": 5
}
